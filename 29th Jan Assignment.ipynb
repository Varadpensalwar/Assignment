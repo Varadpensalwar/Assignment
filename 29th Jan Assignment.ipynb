{
 "cells": [
  {
   "cell_type": "markdown",
   "id": "e5f1142c-c328-4379-b710-a886c3c5b205",
   "metadata": {},
   "source": [
    "Q.1 who developed python programming language?"
   ]
  },
  {
   "cell_type": "markdown",
   "id": "4ef8ba83-c03c-4ba6-8126-d320012b0cff",
   "metadata": {},
   "source": [
    "Ans-Python was created by Guido van Rossum in the late 1980s and was first released in 1991.\n",
    "\n",
    "\n",
    "\n"
   ]
  },
  {
   "cell_type": "markdown",
   "id": "872993e4-4a1f-4f78-9755-33b8edf08b70",
   "metadata": {},
   "source": [
    "Q.2 which type of programming does python support?"
   ]
  },
  {
   "cell_type": "markdown",
   "id": "33e3aeb5-af63-4067-9e76-e4a3d2567c8d",
   "metadata": {},
   "source": [
    "Ans-Python is a multi-paradigm programming language. Object-oriented programming and structured programming are fully supported, and many of their features support functional programming and aspect-oriented programming (including metaprogramming and metaobjects).\n"
   ]
  },
  {
   "cell_type": "markdown",
   "id": "7cff10a9-a9b4-4430-95f6-8a0729d59d52",
   "metadata": {},
   "source": [
    "Q.3 is python case sensitive when dealing with identifiers?"
   ]
  },
  {
   "cell_type": "markdown",
   "id": "b796cf1c-547c-4efa-aae8-eea19093feef",
   "metadata": {},
   "source": [
    "Ans. Yes, Python is case sensitive when dealing with identifiers. This means that identifiers with different capitalization are considered to be different and distinct in Python. For example, \"myVar\" and \"myvar\" are two different variable names in Python.\n",
    "\n",
    "\n",
    "\n"
   ]
  },
  {
   "cell_type": "markdown",
   "id": "75a621e9-2249-4d9f-9481-494be3b69f79",
   "metadata": {},
   "source": [
    "Q.4 what is correct extension of python file?"
   ]
  },
  {
   "cell_type": "markdown",
   "id": "0e2d15e9-ae98-4875-8aa6-0d75bee1eda6",
   "metadata": {},
   "source": [
    "Ans- The correct extension for a Python file is \".py\",\".pyi\". When you save a Python program in a file, you should give it a name with the \".py\" extension at the end of the file name. For example, \"my_program.py\". This extension is recognized by most text editors, integrated development environments (IDEs), and the Python interpreter as the standard file extension for Python code.\n",
    "\n",
    "\n",
    "\n"
   ]
  },
  {
   "cell_type": "markdown",
   "id": "2386005f-2d41-447c-8349-48b8a97ccd5a",
   "metadata": {},
   "source": [
    "Q.5 is python code compiled or interpreted?"
   ]
  },
  {
   "cell_type": "markdown",
   "id": "7ab76670-c6c6-4c68-80c1-cc590f8c4f53",
   "metadata": {},
   "source": [
    "Ans- Python is an interpreted language, which means that Python code is executed line by line without the need for a compilation step. When you run a Python program, the source code is first translated into an intermediate form called bytecode, which is then interpreted by the Python interpreter. This makes Python code very easy to write and test, but it can also be slower than compiled languages for some types of applications. However, Python does have tools like PyPy that use just-in-time (JIT) compilation to speed up code execution."
   ]
  },
  {
   "cell_type": "raw",
   "id": "7f19f728-e5da-44bc-ab7d-19acbb8e7b7f",
   "metadata": {},
   "source": [
    "Q.6 name the few blocks of code used to define python language?"
   ]
  },
  {
   "cell_type": "markdown",
   "id": "049696df-5729-4605-8f07-9974953ae628",
   "metadata": {},
   "source": [
    "Indentation is used to define a block of code in python. Braces {} are used to define a block of code in most programming languages, like C, C++, and Java. But this indentation makes python unique among all programming languages.\n",
    "\n",
    "This indentation highlights the block of code. In Python, indentation is done with whitespace. All statements with the same right-hand distance belong to the same code block. If a block needs to be more nested, it is indented to the right.\n",
    "\n",
    "Indentation is only used in most other programming languages to help make the code look nice. However, it is required in Python to indicate which block of code a statement belongs to.\n",
    "\n"
   ]
  },
  {
   "cell_type": "markdown",
   "id": "9afc0670-7476-47e1-93c0-4fd7afef0b9d",
   "metadata": {},
   "source": [
    "Q.7 state a character used to give single-line comments in python?"
   ]
  },
  {
   "cell_type": "markdown",
   "id": "137ef5f3-58fc-4174-8f1c-6309f39f2510",
   "metadata": {},
   "source": [
    "Ans- We can use the \"#\" character to write the comment in python."
   ]
  },
  {
   "cell_type": "markdown",
   "id": "b892a4da-fedd-4e6d-9ad1-ade9b793d5e4",
   "metadata": {},
   "source": [
    "Q.8 mention functions which can help us to find the version of python that we are currently working on?"
   ]
  },
  {
   "cell_type": "markdown",
   "id": "a8bd7333-38b6-416d-a5ba-dcbf90ced1be",
   "metadata": {},
   "source": [
    "Ans - 'sys' module: This module provides access to some variables used or maintained by the interpreter and to functions that interact strongly with the interpreter.\n",
    "\n",
    "Code-\n",
    "import sys\n",
    "print(sys.version)\n",
    "\n"
   ]
  },
  {
   "cell_type": "markdown",
   "id": "520d0d83-0169-4bc4-aa7c-4e0e9aebafe3",
   "metadata": {},
   "source": [
    "Q.9 python supports the creation of anonymous functions at runtime using a construct called _ _ _ _ _ _"
   ]
  },
  {
   "cell_type": "markdown",
   "id": "a964572c-55b3-4f74-8828-ccaee5f82c7f",
   "metadata": {},
   "source": [
    "Ans- python supports the creation of anonymous functions at runtime using a construct called \"lambda\""
   ]
  },
  {
   "cell_type": "markdown",
   "id": "feeb67da-059b-4c22-84c7-d97b39952013",
   "metadata": {},
   "source": [
    "Q.10 what does pip stand for python?"
   ]
  },
  {
   "cell_type": "markdown",
   "id": "601ee396-0a53-48ae-a6fc-1d69a8ed6bb6",
   "metadata": {},
   "source": [
    "Ans- preferred installer program"
   ]
  },
  {
   "cell_type": "markdown",
   "id": "b31a7870-a119-474e-94b2-d99d5d6e6640",
   "metadata": {},
   "source": [
    "Q.11 mention few built-in functions in python? "
   ]
  },
  {
   "cell_type": "markdown",
   "id": "d4bb833a-51d3-4ce0-8a40-483de2d8c2ee",
   "metadata": {},
   "source": [
    "Ans-\n",
    "print( ) function.\n",
    "type( ) function.\n",
    "input( ) function.\n",
    "abs( ) function.\n",
    "pow( ) function.\n",
    "dir( ) function.\n",
    "sorted( ) function.\n",
    "max( ) function."
   ]
  },
  {
   "cell_type": "markdown",
   "id": "6b3200d6-99c2-41de-b107-ba49dd4a2a69",
   "metadata": {},
   "source": [
    "Q.12 what is the maximum possible length of an identifier?"
   ]
  },
  {
   "cell_type": "markdown",
   "id": "0b689c75-47c7-4404-8c3f-94e1d0ffe829",
   "metadata": {},
   "source": [
    "Ans-  An identifier can have a maximum length of 79 characters in Python."
   ]
  },
  {
   "cell_type": "markdown",
   "id": "99468f53-bd7c-4061-a375-7bb0c0ddbc90",
   "metadata": {},
   "source": [
    "Q.13 what are the benefits of using python?"
   ]
  },
  {
   "cell_type": "markdown",
   "id": "3d1db16f-a46f-4fdb-8503-341256e0729b",
   "metadata": {},
   "source": [
    "Ans- Easy to learn: Python is designed to be easy to read and write, with a simple and intuitive syntax. This makes it a great language for beginners who are just starting to learn programming.\n",
    "\n",
    "Versatile: Python can be used for a wide range of applications, from web development and data analysis to machine learning and artificial intelligence.\n",
    "\n",
    "Large standard library: Python comes with a large standard library that provides many useful tools and modules for common programming tasks.\n",
    "\n",
    "Third-party libraries: There is a huge ecosystem of third-party libraries and frameworks available for Python, which can extend its capabilities and save development time.\n",
    "\n",
    "Cross-platform: Python is available on many different platforms, including Windows, macOS, and Linux, so you can write code on one platform and run it on another without needing to make changes.\n",
    "\n",
    "Interpreted: Python is an interpreted language, which means that you can write and test code quickly without needing to compile it.\n",
    "\n",
    "Dynamic typing: Python is dynamically typed, which means that you don't need to declare variable types in advance. This makes it easier to write code quickly and can also make it easier to read and understand."
   ]
  },
  {
   "cell_type": "markdown",
   "id": "da2a91a6-b434-439f-bb3c-62c28977c7bf",
   "metadata": {},
   "source": [
    "Q.14 how is memory managed in python?"
   ]
  },
  {
   "cell_type": "markdown",
   "id": "4af6cf9f-f152-4cfa-939d-3a82ebdca613",
   "metadata": {},
   "source": [
    "Ans- Memory management in Python involves a private heap containing all Python objects and data structures. The management of this private heap is ensured internally by the Python memory manager."
   ]
  },
  {
   "cell_type": "markdown",
   "id": "f6457fd9-c564-4b6c-a003-7ce133a930d1",
   "metadata": {},
   "source": [
    "Q.15 how to install python on windows and set path variable?"
   ]
  },
  {
   "cell_type": "markdown",
   "id": "f0800e4c-b8de-46dd-8e0e-7c1f238badd0",
   "metadata": {},
   "source": [
    "Ans- Right-clicking This PC and going to Properties.\n",
    "Clicking on the Advanced system settings in the menu on the left.\n",
    "Clicking on the Environment Variables button on the bottom right.\n",
    "In the System variables section, selecting the Path variable and clicking on Edit."
   ]
  },
  {
   "cell_type": "markdown",
   "id": "9e407c5c-05ea-47ab-a38f-e45d6baad558",
   "metadata": {},
   "source": [
    "Q.16 is indentation required in python?"
   ]
  },
  {
   "cell_type": "markdown",
   "id": "f9a1e595-5415-4fac-8067-e67f140d1614",
   "metadata": {},
   "source": [
    "Ans - Yes, indentation is required in Python. Unlike many other programming languages that use curly braces to define blocks of code, Python uses indentation to indicate the grouping of statements. Indentation is used to create code blocks, such as those within loops, functions, and conditional statements. The standard indentation level is four spaces, but some programmers prefer to use tabs or a different number of spaces.\n",
    "\n",
    "It's important to note that incorrect indentation can lead to syntax errors in your Python code, so it's important to use consistent and appropriate indentation throughout your code."
   ]
  }
 ],
 "metadata": {
  "kernelspec": {
   "display_name": "Python 3 (ipykernel)",
   "language": "python",
   "name": "python3"
  },
  "language_info": {
   "codemirror_mode": {
    "name": "ipython",
    "version": 3
   },
   "file_extension": ".py",
   "mimetype": "text/x-python",
   "name": "python",
   "nbconvert_exporter": "python",
   "pygments_lexer": "ipython3",
   "version": "3.10.8"
  }
 },
 "nbformat": 4,
 "nbformat_minor": 5
}
